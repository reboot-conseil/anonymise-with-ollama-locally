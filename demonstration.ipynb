{
 "cells": [
  {
   "cell_type": "markdown",
   "metadata": {},
   "source": [
    "# Anonymise PII using llama3.1 with ollama locally"
   ]
  },
  {
   "cell_type": "code",
   "execution_count": 19,
   "metadata": {},
   "outputs": [],
   "source": [
    "INPUT_TEXT = \"\"\"\n",
    "This text is about Mr. Smith. Mr. Smith's phone number is 555-555-5555. Mr. Smith is from California and lives with his family at 123 Main Street. Mr. Smith's hobbies include reading, writing, and playing guitar.\n",
    "\"\"\""
   ]
  },
  {
   "cell_type": "code",
   "execution_count": 23,
   "metadata": {},
   "outputs": [
    {
     "name": "stdout",
     "output_type": "stream",
     "text": [
      "Here is the revised text:\n",
      "\n",
      "This text is about <NAME>. <NAME>'s phone number is <PHONE_NUMBER>. <NAME> is from California and lives with his family at <ADDRESS>. <NAME>'s hobbies include reading, writing, and playing guitar.\n"
     ]
    }
   ],
   "source": [
    "from langchain_community.llms import Ollama\n",
    "llm = Ollama(model=\"llama3\")\n",
    "\n",
    "prompt = \"\"\"\n",
    "In the following text, replace names with <NAME>, phone numbers with <PHONE_NUMBER>, and addresses with <ADDRESS>.\n",
    "\"\"\"\n",
    "\n",
    "print(llm.invoke(prompt + INPUT_TEXT))"
   ]
  }
 ],
 "metadata": {
  "kernelspec": {
   "display_name": ".venv",
   "language": "python",
   "name": "python3"
  },
  "language_info": {
   "codemirror_mode": {
    "name": "ipython",
    "version": 3
   },
   "file_extension": ".py",
   "mimetype": "text/x-python",
   "name": "python",
   "nbconvert_exporter": "python",
   "pygments_lexer": "ipython3",
   "version": "3.12.4"
  }
 },
 "nbformat": 4,
 "nbformat_minor": 2
}
